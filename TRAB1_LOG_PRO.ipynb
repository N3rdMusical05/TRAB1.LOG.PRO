{
  "nbformat": 4,
  "nbformat_minor": 0,
  "metadata": {
    "colab": {
      "provenance": []
    },
    "kernelspec": {
      "name": "python3",
      "display_name": "Python 3"
    },
    "language_info": {
      "name": "python"
    }
  },
  "cells": [
    {
      "cell_type": "markdown",
      "source": [
        "# TRABALHO DE LÓGICA DE PROGRAMAÇÃO\n"
      ],
      "metadata": {
        "id": "m4fvEELbrkVV"
      }
    },
    {
      "cell_type": "markdown",
      "source": [
        "# João Pedro da silva Queiroz.\n",
        "\n",
        "# 1° período:\"Ciência da computação\"\n",
        "\n",
        "# Turno: \"Manhâ\""
      ],
      "metadata": {
        "id": "7gvvIms9pP_R"
      }
    },
    {
      "cell_type": "markdown",
      "source": [
        "1°Faça um programa que leia 3 números inteiros e os imprima em ordem\n",
        "crescente."
      ],
      "metadata": {
        "id": "xE6TfSR-mcGk"
      }
    },
    {
      "cell_type": "code",
      "source": [
        "\n",
        "numb1 = int(input(\"digite o número:\"))\n",
        "numb2 = int(input(\"digite o número:\"))\n",
        "numb3 = int(input(\"digite o número:\"))\n",
        "\n",
        "lista =[numb1, numb2, numb3]\n",
        "\n",
        "\n",
        "\n",
        "lista.sort()\n",
        "\n",
        "print(lista)\n",
        "\n",
        "\n",
        "\n",
        "\n",
        "\n"
      ],
      "metadata": {
        "id": "w5gPLyk1plMf"
      },
      "execution_count": null,
      "outputs": []
    },
    {
      "cell_type": "markdown",
      "source": [
        "2°Escreva um programa que exiba na saída padrão os 100 primeiros números\n",
        "naturais (inteiros positivos incluindo o zero).\n"
      ],
      "metadata": {
        "id": "RJb31rw3l5W_"
      }
    },
    {
      "cell_type": "code",
      "source": [
        "\n",
        "for i in range(101):\n",
        "    print(i)\n",
        "\n",
        "\n",
        "\n",
        "\n",
        "\n"
      ],
      "metadata": {
        "id": "5lU07pAM2B2F"
      },
      "execution_count": null,
      "outputs": []
    },
    {
      "cell_type": "markdown",
      "source": [
        "3° Você está organizando um evento e deseja que os seus convidados se\n",
        "sintam importantes. Sendo assim, quando cada convidado chega ao local você\n",
        "pergunta o nome dele e digita no computador. Então o nome dele é exibido em\n",
        "um painel luminoso na entrada do salão. A mensagem que aparece é: \"Seja\n",
        "muito bem-vindo Fulano de Tal, onde Fulano de Tal é o nome da pessoa que\n",
        "chegou.\n",
        "\n",
        "*Formato de entrada:\n",
        "O nome da pessoa, que pode conter até 120 caracteres;\n",
        "\n",
        "*Formato de saída:\n",
        "O programa deve imprimir a mensagem \"Seja muito bem-vindo Fulano de Tal\"."
      ],
      "metadata": {
        "id": "ZxMimfd7oENm"
      }
    },
    {
      "cell_type": "code",
      "source": [
        "\n",
        "seunome = input(\"digite seu nome:\")\n",
        "for i in range(1):\n",
        "    print(f\"Seja muito bem vindo {seunome}\")\n",
        "\n",
        "\n",
        "\n"
      ],
      "metadata": {
        "id": "G82XXMfur02p"
      },
      "execution_count": null,
      "outputs": []
    },
    {
      "cell_type": "markdown",
      "source": [
        "4°Faça um programa que dado um número indique se ele é um primo ou não.\n",
        "\n",
        "Obs: Para cada número lido você deve imprimir “Número não é Primo” caso o\n",
        "número não seja primo ou “Número Primo”  caso seja.\n"
      ],
      "metadata": {
        "id": "VJU85dV-ohJe"
      }
    },
    {
      "cell_type": "code",
      "source": [
        "\n",
        "def eh_primo(numero):\n",
        "    if numero <= 1:\n",
        "        return False\n",
        "    for i in range(2, int(numero ** 0.5) + 1):\n",
        "        if numero % i == 0:\n",
        "            return False\n",
        "    return True\n",
        "\n",
        "def verificar_numeros():\n",
        "    while True:\n",
        "        try:\n",
        "            numero = int(input(\"Digite um número (ou 'sair' para encerrar): \"))\n",
        "            if eh_primo(numero):\n",
        "                print(f\"{numero} é primo\")\n",
        "            else:\n",
        "                print(f\"{numero} não é primo\")\n",
        "        except ValueError:\n",
        "            print(\"Entrada inválida. Por favor, digite um número inteiro ou 'sair' para encerrar.\")\n",
        "            continue\n",
        "\n",
        "verificar_numeros()\n",
        "\n",
        "\n"
      ],
      "metadata": {
        "id": "RuLN8DQAr72M"
      },
      "execution_count": null,
      "outputs": []
    },
    {
      "cell_type": "markdown",
      "source": [
        "5°Serão dados n números correspondendo as notas da turma de alunos de\n",
        "uma escola.\n",
        "\n",
        "Escreva um programa que leia essas notas e calcule: - quantas estão mais de 10% acima da média. - quantas estão menos de 10% abaixo da média.\n",
        "\n",
        "*Formato de entrada:\n",
        "\n",
        "Na primeira linha você receberá um número inteiro n, que representará a\n",
        "quantidade de alunos da turma. N  <= 20000.\n",
        "Em seguida você receberá n números reais, um em cada linha,\n",
        "correspondendo as notas de cada aluno da turma.\n",
        "\n",
        "*Formato de saída:\n",
        "Imprima na primeira linha da saída a média das notas formatada com duas\n",
        "casas decimais.\n",
        "\n",
        "*Na segunda linha imprima quantas notas ficaram mais de 10% acima da média\n",
        "da turma.\n",
        "\n",
        "*Na terceira linha imprima quantas notas ficaram menos de 10% abaixo da\n",
        "média da turma."
      ],
      "metadata": {
        "id": "Eaivdvc5sgY8"
      }
    },
    {
      "cell_type": "code",
      "source": [
        "# Programa para calcular a média de até 100 alunos\n",
        "notas = []\n",
        "quant_alunos = int(input(\"Quantidade de alunos na turma (máximo 100): \"))\n",
        "\n",
        "# Validação da quantidade de alunos\n",
        "while quant_alunos > 100 or quant_alunos < 1:\n",
        "    quant_alunos = int(input(\"Erro! Informe a quantidade de alunos na turma (máximo 100): \"))\n",
        "\n",
        "# Leitura das notas\n",
        "for i in range(quant_alunos):\n",
        "    nota = float(input(f\"Digite a nota do aluno {i + 1}: \"))\n",
        "    while nota < 0 or nota > 10:\n",
        "        nota = float(input(f\"Erro! Digite a nota do aluno {i + 1} (0 a 10): \"))\n",
        "    notas.append(nota)\n",
        "\n",
        "# Cálculo da média\n",
        "media = sum(notas) / len(notas)\n",
        "print(f'A média das notas é: {media:.2f}')\n"
      ],
      "metadata": {
        "id": "ohO_zDDQsAbT"
      },
      "execution_count": null,
      "outputs": []
    },
    {
      "cell_type": "markdown",
      "source": [
        "6°Leia uma string e inverta o seu conteúdo. Exemplo: Se a string digitada for\n",
        "\"JANELA\", então você deve imprimir: \"ALENAJ\"."
      ],
      "metadata": {
        "id": "ZOFCMdVuo0jj"
      }
    },
    {
      "cell_type": "code",
      "source": [
        "\n",
        "texto = input('digite seu nome: ')\n",
        "print(texto[::-1])\n",
        "\n"
      ],
      "metadata": {
        "colab": {
          "base_uri": "https://localhost:8080/"
        },
        "id": "baaFA9u3sEug",
        "outputId": "82c71875-68ed-4190-b830-57e1c77ef6aa"
      },
      "execution_count": 9,
      "outputs": [
        {
          "output_type": "stream",
          "name": "stdout",
          "text": [
            "digite seu nome: Paulo\n",
            "oluaP\n"
          ]
        }
      ]
    },
    {
      "cell_type": "markdown",
      "source": [
        "7°Faça um programa que leia uma string e dois caracteres. Troque todas as\n",
        "ocorrências do primeiro caracter pelo segundo. Exemplo: Seja a string\n",
        "\"maracatu\" e os caracteres 'a' e 'o', então a string ficará \"morocotu\".\n",
        "\n",
        "*Formato de entrada:\n",
        "Você receberá 03 linhas.\n",
        "\n",
        " Primeira linha: a string\n",
        " Segunda linha: o primeiro caracter\n",
        " Terceira linha: o segundo caracter\n",
        "\n",
        "*A string possui no máximo 100 caracteres.\n",
        "\n",
        "*Formato de saída:\n",
        "Imprima a palavra resultante da substituição dos caracteres na string original.  \n"
      ],
      "metadata": {
        "id": "y1wMNZ7KpDut"
      }
    },
    {
      "cell_type": "code",
      "source": [
        "\n",
        "# Leitura da string e dos caracteres\n",
        "string = input(\"Digite a string: \")\n",
        "char1 = input(\"Digite o primeiro caractere: \")\n",
        "char2 = input(\"Digite o segundo caractere: \")\n",
        "\n",
        "# Troca de todas as ocorrências do primeiro caractere pelo segundo\n",
        "nova_string = string.replace(char1, char2)\n",
        "\n",
        "# Exibição da nova string\n",
        "print(\"Nova string:\", nova_string)\n",
        "\n"
      ],
      "metadata": {
        "id": "ZJg9oBn_x4BM"
      },
      "execution_count": null,
      "outputs": []
    },
    {
      "cell_type": "markdown",
      "source": [
        "8°Faça um programa para ler uma string e um caracter qualquer e calcular o\n",
        "índice da primeira ocorrência desse caracter na string . Caso não haja\n",
        "ocorrência, imprimir valor -1. Exemplo: Seja a string \"melancia\" e o caracter 'e', então o índice da primeira ocorrência do caracter na string é 1.\n",
        "\n",
        "*Considere que o índice começa com 0.\n",
        "\n",
        "*Formato de entrada:\n",
        "Você receberá duas linhas. Na primeira linha receberá uma string e na\n",
        "segunda linha um caracter.\n",
        "\n",
        "*Formato de saída:\n",
        "Você deve imprimir um número inteiro correspondendo ao índice do caracter\n",
        "encontrado na string, seguido de um final de linha."
      ],
      "metadata": {
        "id": "OMksYeOzpXOr"
      }
    },
    {
      "cell_type": "code",
      "source": [
        "\n",
        "# Leitura da string e do caractere\n",
        "string = input().strip()\n",
        "caractere = input().strip()\n",
        "\n",
        "# Encontrar o índice da primeira ocorrência do caractere na string\n",
        "indice = string.find(caractere)\n",
        "\n",
        "# Imprimir o índice encontrado\n",
        "print(indice)\n",
        "\n"
      ],
      "metadata": {
        "id": "CcmKPrmLx9Cx"
      },
      "execution_count": null,
      "outputs": []
    },
    {
      "cell_type": "markdown",
      "source": [
        "9° Escreva um programa leia 2 valores X e Y e que imprima todos os valores\n",
        "entre eles cujo resto da divisão dele por 5 for igual a 2 ou igual a 3.\n",
        "\n",
        "*Formato de entrada:\n",
        "Contém 2 valores inteiros quaisquer, não necessariamente em ordem\n",
        "crescente.\n",
        "\n",
        "*Formato de saída:\n",
        "Todos os inteiros entre x e y, um por linha"
      ],
      "metadata": {
        "id": "5sijQFBcp6Yx"
      }
    },
    {
      "cell_type": "code",
      "source": [
        "\n",
        "# Função para imprimir os valores entre x e y cujo resto da divisão por 5 é 2 ou 3\n",
        "def imprime_valores(x, y):\n",
        "    # Garantir que x seja menor que y\n",
        "    if x > y:\n",
        "        x, y = y, x\n",
        "\n",
        "    # Iterar pelos valores entre x e y (exclusivo)\n",
        "    for i in range(x + 1, y):\n",
        "        if i % 5 == 2 or i % 5 == 3:\n",
        "            print(i)\n",
        "\n",
        "# Leitura dos valores de entrada\n",
        "x = int(input(\"Digite o valor de x: \"))\n",
        "y = int(input(\"Digite o valor de y: \"))\n",
        "\n",
        "# Chamada da função para imprimir os valores\n",
        "imprime_valores(x, y)\n",
        "\n"
      ],
      "metadata": {
        "id": "SdPCO3tPx_mk"
      },
      "execution_count": null,
      "outputs": []
    },
    {
      "cell_type": "markdown",
      "source": [
        "10°Faça um programa que leia n números inteiros dados e os imprima:\n",
        "\n",
        "a) na ordem inversa dos números dados:\n",
        "\n",
        "b) ordenado em ordem decrescente:"
      ],
      "metadata": {
        "id": "zkynJ9f_qJci"
      }
    },
    {
      "cell_type": "code",
      "source": [
        "\n",
        "# Função para ler os números inteiros\n",
        "def ler_numeros():\n",
        "    numeros = []\n",
        "    n = int(input(\"Quantos números você deseja inserir? \"))\n",
        "    for _ in range(3):\n",
        "        numero = int(input(\"Digite um número inteiro: \"))\n",
        "        numeros.append(numero)\n",
        "    return numeros\n",
        "\n",
        "# Função para imprimir os números na ordem inversa\n",
        "def imprimir_inverso(numeros):\n",
        "    print(\"Números na ordem inversa:\")\n",
        "    for numero in reversed(numeros):\n",
        "        print(numero, end=' ')\n",
        "    print()\n",
        "\n",
        "# Função para imprimir os números em ordem decrescente\n",
        "def imprimir_decrescente(numeros):\n",
        "    print(\"Números em ordem decrescente:\")\n",
        "    for numero in sorted(numeros, reverse=True):\n",
        "        print(numero, end=' ')\n",
        "    print()\n",
        "\n",
        "# Programa principal\n",
        "def main():\n",
        "    numeros = ler_numeros()\n",
        "    imprimir_inverso(numeros)\n",
        "    imprimir_decrescente(numeros)\n",
        "\n",
        "if __name__ == \"__main__\":\n",
        "    main()\n"
      ],
      "metadata": {
        "id": "_RQSnId0yCAQ"
      },
      "execution_count": null,
      "outputs": []
    }
  ]
}